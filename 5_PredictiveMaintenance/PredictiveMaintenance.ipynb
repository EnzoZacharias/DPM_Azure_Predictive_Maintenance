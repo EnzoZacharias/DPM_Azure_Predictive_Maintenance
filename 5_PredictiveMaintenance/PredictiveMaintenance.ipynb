{
 "cells": [
  {
   "cell_type": "code",
   "execution_count": null,
   "metadata": {},
   "outputs": [],
   "source": [
    "import pandas as pd\n",
    "from sklearn.model_selection import train_test_split\n",
    "from sklearn.ensemble import RandomForestClassifier\n",
    "from sklearn.metrics import classification_report\n",
    "\n",
    "# Daten einlesen\n",
    "data = pd.read_csv('test.csv')\n",
    "\n",
    "data['datetime'] = pd.to_datetime(data['datetime'])\n",
    "\n",
    "data = data.sort_values(by=['machineID', 'datetime'])\n",
    "data['comp_replaced'] = data['comp'].notnull().astype(int)\n",
    "\n",
    "import numpy as np\n",
    "\n",
    "data['time_to_next_replacement'] = np.nan\n",
    "\n",
    "for machine in data['machineID'].unique():\n",
    "    machine_data = data[data['machineID'] == machine]\n",
    "    replacement_times = machine_data[machine_data['comp_replaced'] == 1]['datetime']\n",
    "\n",
    "    if replacement_times.empty:\n",
    "        continue\n",
    "\n",
    "    replacement_times = pd.to_datetime(replacement_times)\n",
    "    next_replacement = replacement_times.iloc[0]\n",
    "\n",
    "    for idx, row in machine_data.iterrows():\n",
    "        if row['datetime'] >= next_replacement:\n",
    "            future_replacements = replacement_times[replacement_times > row['datetime']]\n",
    "            if not future_replacements.empty:\n",
    "                next_replacement = future_replacements.iloc[0]\n",
    "            else:\n",
    "                break  # Kein weiterer Austausch\n",
    "        time_delta = (next_replacement - row['datetime']).total_seconds() / 3600  # in Stunden\n",
    "        data.loc[idx, 'time_to_next_replacement'] = time_delta\n",
    "\n",
    "features = ['volt', 'rotate', 'pressure', 'vibration', 'age']\n",
    "from sklearn.preprocessing import StandardScaler\n",
    "\n",
    "scaler = StandardScaler()\n",
    "X = scaler.fit_transform(data[features])\n"
   ]
  },
  {
   "cell_type": "code",
   "execution_count": 21,
   "metadata": {},
   "outputs": [
    {
     "name": "stdout",
     "output_type": "stream",
     "text": [
      "Mean Absolute Error (MAE): 102.3808888888889\n",
      "Root Mean Squared Error (RMSE): 128.43358751042393\n"
     ]
    }
   ],
   "source": [
    "from sklearn.ensemble import RandomForestRegressor\n",
    "from sklearn.metrics import mean_absolute_error, mean_squared_error\n",
    "\n",
    "\n",
    "# Set NaN values in the target variable to -1\n",
    "data['time_to_next_replacement'].fillna(-1, inplace=True)\n",
    "\n",
    "y = data['time_to_next_replacement']\n",
    "X_clean = scaler.transform(data[features])  # Use the same scaler to transform the data\n",
    "\n",
    "X_train, X_test, y_train, y_test = train_test_split(X_clean, y, test_size=0.2)\n",
    "\n",
    "model = RandomForestRegressor(n_estimators=100, random_state=42)\n",
    "model.fit(X_train, y_train)\n",
    "y_pred = model.predict(X_test)\n",
    "\n",
    "mae = mean_absolute_error(y_test, y_pred)\n",
    "rmse = np.sqrt(mean_squared_error(y_test, y_pred))\n",
    "\n",
    "print(f'Mean Absolute Error (MAE): {mae}')\n",
    "print(f'Root Mean Squared Error (RMSE): {rmse}')\n"
   ]
  },
  {
   "cell_type": "code",
   "execution_count": 22,
   "metadata": {},
   "outputs": [
    {
     "data": {
      "text/plain": [
       "['scaler.pkl']"
      ]
     },
     "execution_count": 22,
     "metadata": {},
     "output_type": "execute_result"
    }
   ],
   "source": [
    "import joblib\n",
    "\n",
    "# Annahme: Ihr trainiertes Modell ist in der Variable 'model' gespeichert\n",
    "joblib.dump(model, 'rul_model.pkl')\n",
    "\n",
    "# Falls Sie einen Skalierer verwendet haben, speichern Sie diesen ebenfalls\n",
    "joblib.dump(scaler, 'scaler.pkl')\n"
   ]
  },
  {
   "cell_type": "code",
   "execution_count": null,
   "metadata": {},
   "outputs": [
    {
     "name": "stdout",
     "output_type": "stream",
     "text": [
      "Vorhergesagte verbleibende Nutzungsdauer: 220.25 Stunden\n"
     ]
    }
   ],
   "source": [
    "import pandas as pd\n",
    "\n",
    "# Aktuelle Sensordaten erfassen (z.B. aus einer Datenbank oder direkt von den Sensoren)\n",
    "# Hier ein Beispiel-Datenpunkt\n",
    "current_data = pd.DataFrame({\n",
    "    'volt': [170.0],\n",
    "    'rotate': [420.0],\n",
    "    'pressure': [100.0],\n",
    "    'vibration': [40.0],\n",
    "    'age': [18]\n",
    "})\n",
    "\n",
    "# Die gleichen Vorverarbeitungsschritte anwenden wie beim Training\n",
    "X_current = scaler.transform(current_data[features])\n",
    "\n",
    "# Vorhersage der verbleibenden Nutzungsdauer\n",
    "rul_prediction = model.predict(X_current)\n",
    "\n",
    "print(f'Vorhergesagte verbleibende Nutzungsdauer: {rul_prediction[0]:.2f} Stunden')\n"
   ]
  }
 ],
 "metadata": {
  "kernelspec": {
   "display_name": "base",
   "language": "python",
   "name": "python3"
  },
  "language_info": {
   "codemirror_mode": {
    "name": "ipython",
    "version": 3
   },
   "file_extension": ".py",
   "mimetype": "text/x-python",
   "name": "python",
   "nbconvert_exporter": "python",
   "pygments_lexer": "ipython3",
   "version": "3.8.19"
  }
 },
 "nbformat": 4,
 "nbformat_minor": 2
}
